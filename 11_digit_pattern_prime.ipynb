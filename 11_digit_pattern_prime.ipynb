{
 "cells": [
  {
   "cell_type": "code",
   "execution_count": 15,
   "metadata": {},
   "outputs": [],
   "source": [
    "# Step 1 - generate Fibunacci numbers, and make the 11 digit pattern list from them\n",
    "\n",
    "def pattern_gen():\n",
    "    a,b = 0,1\n",
    "    number1 = 0\n",
    "    number2 = 0\n",
    "    list_1=[]\n",
    "    list_2=[]\n",
    "    list_3=[]\n",
    "    list_4=[]\n",
    "    \n",
    "    \n",
    "    \n",
    "    def control(n): # controls the length of the Fibunacci sequence to generate\n",
    "        num = n\n",
    "        \n",
    "        if len(str(num)) > 11: # largest size, in digits, of Fibunacci numbers in sequence\n",
    "            return False\n",
    "        else:\n",
    "            return True\n",
    "               \n",
    "    while control(b) == True: # feed control function with Fibunacci numbers\n",
    "        a,b = b,a+b \n",
    "        list_1.append(b) # collect the Fibunacci numbers in a list until control is False\n",
    "    list_1.pop(-1) # remove the n+1 digit number from list_1\n",
    "        \n",
    "    number1 = int(\"\".join(map(str, list_1))) # turn list_1 into an int\n",
    "        \n",
    "    list_2 = [int(i) for i in str(number1)] # turn number1 into a list of individual int elements\n",
    "    \n",
    "    for n in range(0,len(list_2)-1): # turn list_2 into a list of lists of single digit ints\n",
    "        list_3.append(list_2[n:n+11])\n",
    "        \n",
    "    for i in range(len(list_3)): # turn list_3 into a list of 11 digit ints\n",
    "        number2 = int(\"\".join(map(str, list_3[::][i])))\n",
    "        if len(str(number2)) == 11: \n",
    "            list_4.append(number2)\n",
    "             \n",
    "    return list_4"
   ]
  },
  {
   "cell_type": "code",
   "execution_count": 18,
   "metadata": {},
   "outputs": [],
   "source": [
    "# Step 2 - test the 11 digit pattern list for primes \n",
    "\n",
    "from math import sqrt\n",
    "\n",
    "def get_primes(n):\n",
    "    list_5=[]\n",
    "    list_6=[]\n",
    "    for z in (all(i % x for x in range(2,int(sqrt(i)+1))) for i in n):\n",
    "        list_5.append(z)\n",
    "        \n",
    "    for i,j in enumerate(list_5): # map the indexes of the Trues to the pattern list to get prime values\n",
    "        if j == True:\n",
    "            list_6.append(pattern_gen()[i])\n",
    "\n",
    "    return list_6[0]"
   ]
  },
  {
   "cell_type": "code",
   "execution_count": 19,
   "metadata": {},
   "outputs": [
    {
     "data": {
      "text/plain": [
       "96418317811"
      ]
     },
     "execution_count": 19,
     "metadata": {},
     "output_type": "execute_result"
    }
   ],
   "source": [
    "# Call get_primes() with pattern_gen() as the argument\n",
    "\n",
    "get_primes(pattern_gen())"
   ]
  },
  {
   "cell_type": "code",
   "execution_count": null,
   "metadata": {},
   "outputs": [],
   "source": []
  },
  {
   "cell_type": "code",
   "execution_count": null,
   "metadata": {},
   "outputs": [],
   "source": []
  }
 ],
 "metadata": {
  "kernelspec": {
   "display_name": "Python 3",
   "language": "python",
   "name": "python3"
  },
  "language_info": {
   "codemirror_mode": {
    "name": "ipython",
    "version": 3
   },
   "file_extension": ".py",
   "mimetype": "text/x-python",
   "name": "python",
   "nbconvert_exporter": "python",
   "pygments_lexer": "ipython3",
   "version": "3.7.1"
  }
 },
 "nbformat": 4,
 "nbformat_minor": 2
}
